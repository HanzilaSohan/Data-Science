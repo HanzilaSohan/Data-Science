{
 "cells": [
  {
   "cell_type": "markdown",
   "id": "0e723b8f-2934-4df2-961a-bff24c92e613",
   "metadata": {},
   "source": [
    "# Data Collection\n",
    "+ Spotify Music dataset is collected from the following link\n",
    "https://www.kaggle.com/datasets/notshrirang/spotify-million-song-dataset"
   ]
  },
  {
   "cell_type": "code",
   "execution_count": 28,
   "id": "0ca0a338-657d-49b7-b555-89c3fafdd251",
   "metadata": {},
   "outputs": [],
   "source": [
    "import pandas as pd"
   ]
  },
  {
   "cell_type": "code",
   "execution_count": 29,
   "id": "e3653499-8f59-4518-a953-581404195a3c",
   "metadata": {},
   "outputs": [
    {
     "data": {
      "text/html": [
       "<div>\n",
       "<style scoped>\n",
       "    .dataframe tbody tr th:only-of-type {\n",
       "        vertical-align: middle;\n",
       "    }\n",
       "\n",
       "    .dataframe tbody tr th {\n",
       "        vertical-align: top;\n",
       "    }\n",
       "\n",
       "    .dataframe thead th {\n",
       "        text-align: right;\n",
       "    }\n",
       "</style>\n",
       "<table border=\"1\" class=\"dataframe\">\n",
       "  <thead>\n",
       "    <tr style=\"text-align: right;\">\n",
       "      <th></th>\n",
       "      <th>artist</th>\n",
       "      <th>song</th>\n",
       "      <th>link</th>\n",
       "      <th>text</th>\n",
       "    </tr>\n",
       "  </thead>\n",
       "  <tbody>\n",
       "    <tr>\n",
       "      <th>0</th>\n",
       "      <td>ABBA</td>\n",
       "      <td>Ahe's My Kind Of Girl</td>\n",
       "      <td>/a/abba/ahes+my+kind+of+girl_20598417.html</td>\n",
       "      <td>Look at her face, it's a wonderful face  \\r\\nA...</td>\n",
       "    </tr>\n",
       "    <tr>\n",
       "      <th>1</th>\n",
       "      <td>ABBA</td>\n",
       "      <td>Andante, Andante</td>\n",
       "      <td>/a/abba/andante+andante_20002708.html</td>\n",
       "      <td>Take it easy with me, please  \\r\\nTouch me gen...</td>\n",
       "    </tr>\n",
       "    <tr>\n",
       "      <th>2</th>\n",
       "      <td>ABBA</td>\n",
       "      <td>As Good As New</td>\n",
       "      <td>/a/abba/as+good+as+new_20003033.html</td>\n",
       "      <td>I'll never know why I had to go  \\r\\nWhy I had...</td>\n",
       "    </tr>\n",
       "    <tr>\n",
       "      <th>3</th>\n",
       "      <td>ABBA</td>\n",
       "      <td>Bang</td>\n",
       "      <td>/a/abba/bang_20598415.html</td>\n",
       "      <td>Making somebody happy is a question of give an...</td>\n",
       "    </tr>\n",
       "    <tr>\n",
       "      <th>4</th>\n",
       "      <td>ABBA</td>\n",
       "      <td>Bang-A-Boomerang</td>\n",
       "      <td>/a/abba/bang+a+boomerang_20002668.html</td>\n",
       "      <td>Making somebody happy is a question of give an...</td>\n",
       "    </tr>\n",
       "  </tbody>\n",
       "</table>\n",
       "</div>"
      ],
      "text/plain": [
       "  artist                   song                                        link  \\\n",
       "0   ABBA  Ahe's My Kind Of Girl  /a/abba/ahes+my+kind+of+girl_20598417.html   \n",
       "1   ABBA       Andante, Andante       /a/abba/andante+andante_20002708.html   \n",
       "2   ABBA         As Good As New        /a/abba/as+good+as+new_20003033.html   \n",
       "3   ABBA                   Bang                  /a/abba/bang_20598415.html   \n",
       "4   ABBA       Bang-A-Boomerang      /a/abba/bang+a+boomerang_20002668.html   \n",
       "\n",
       "                                                text  \n",
       "0  Look at her face, it's a wonderful face  \\r\\nA...  \n",
       "1  Take it easy with me, please  \\r\\nTouch me gen...  \n",
       "2  I'll never know why I had to go  \\r\\nWhy I had...  \n",
       "3  Making somebody happy is a question of give an...  \n",
       "4  Making somebody happy is a question of give an...  "
      ]
     },
     "execution_count": 29,
     "metadata": {},
     "output_type": "execute_result"
    }
   ],
   "source": [
    "df = pd.read_csv('/Users/hanzilasohan/Deep Learning & Machine Learning/Music Recommender System/spotify_millsongdata.csv')\n",
    "df.head()"
   ]
  },
  {
   "cell_type": "code",
   "execution_count": 30,
   "id": "03d6f922-22bb-47ef-acb1-6e92a76dd7fb",
   "metadata": {},
   "outputs": [
    {
     "data": {
      "text/plain": [
       "(57650, 4)"
      ]
     },
     "execution_count": 30,
     "metadata": {},
     "output_type": "execute_result"
    }
   ],
   "source": [
    "df.shape"
   ]
  },
  {
   "cell_type": "code",
   "execution_count": 31,
   "id": "81e12f4a-2d82-4710-80ca-49811d621e15",
   "metadata": {},
   "outputs": [
    {
     "data": {
      "text/plain": [
       "artist    0\n",
       "song      0\n",
       "link      0\n",
       "text      0\n",
       "dtype: int64"
      ]
     },
     "execution_count": 31,
     "metadata": {},
     "output_type": "execute_result"
    }
   ],
   "source": [
    "df.isnull().sum()"
   ]
  },
  {
   "cell_type": "code",
   "execution_count": 32,
   "id": "e3b9a03d-96fd-445e-88ed-3b5ac1b05d85",
   "metadata": {},
   "outputs": [],
   "source": [
    "df = df.sample(10000).drop('link',axis=1).reset_index(drop=True)"
   ]
  },
  {
   "cell_type": "code",
   "execution_count": 33,
   "id": "6474d509-6280-451b-87da-482342058e8b",
   "metadata": {},
   "outputs": [
    {
     "data": {
      "text/html": [
       "<div>\n",
       "<style scoped>\n",
       "    .dataframe tbody tr th:only-of-type {\n",
       "        vertical-align: middle;\n",
       "    }\n",
       "\n",
       "    .dataframe tbody tr th {\n",
       "        vertical-align: top;\n",
       "    }\n",
       "\n",
       "    .dataframe thead th {\n",
       "        text-align: right;\n",
       "    }\n",
       "</style>\n",
       "<table border=\"1\" class=\"dataframe\">\n",
       "  <thead>\n",
       "    <tr style=\"text-align: right;\">\n",
       "      <th></th>\n",
       "      <th>artist</th>\n",
       "      <th>song</th>\n",
       "      <th>text</th>\n",
       "    </tr>\n",
       "  </thead>\n",
       "  <tbody>\n",
       "    <tr>\n",
       "      <th>0</th>\n",
       "      <td>Doors</td>\n",
       "      <td>Mental Floss</td>\n",
       "      <td>All deserters will be shot  \\r\\nat 5 o'clock t...</td>\n",
       "    </tr>\n",
       "    <tr>\n",
       "      <th>1</th>\n",
       "      <td>Misfits</td>\n",
       "      <td>Mommy, Can I Go Out And Kill Tonight?</td>\n",
       "      <td>Singled out the kids who are mean to me  \\r\\nG...</td>\n",
       "    </tr>\n",
       "    <tr>\n",
       "      <th>2</th>\n",
       "      <td>Donna Summer</td>\n",
       "      <td>The Power Of One</td>\n",
       "      <td>You must always remember  \\r\\nLife can be a ch...</td>\n",
       "    </tr>\n",
       "    <tr>\n",
       "      <th>3</th>\n",
       "      <td>Lana Del Rey</td>\n",
       "      <td>Never Let Me Go</td>\n",
       "      <td>Hold me in your arms,  \\r\\nLove me like your b...</td>\n",
       "    </tr>\n",
       "    <tr>\n",
       "      <th>4</th>\n",
       "      <td>Kris Kristofferson</td>\n",
       "      <td>Jesus Was A Capricorn</td>\n",
       "      <td>Jesus was a Capricorn  \\r\\nHe ate organic food...</td>\n",
       "    </tr>\n",
       "  </tbody>\n",
       "</table>\n",
       "</div>"
      ],
      "text/plain": [
       "               artist                                   song  \\\n",
       "0               Doors                           Mental Floss   \n",
       "1             Misfits  Mommy, Can I Go Out And Kill Tonight?   \n",
       "2        Donna Summer                       The Power Of One   \n",
       "3        Lana Del Rey                        Never Let Me Go   \n",
       "4  Kris Kristofferson                  Jesus Was A Capricorn   \n",
       "\n",
       "                                                text  \n",
       "0  All deserters will be shot  \\r\\nat 5 o'clock t...  \n",
       "1  Singled out the kids who are mean to me  \\r\\nG...  \n",
       "2  You must always remember  \\r\\nLife can be a ch...  \n",
       "3  Hold me in your arms,  \\r\\nLove me like your b...  \n",
       "4  Jesus was a Capricorn  \\r\\nHe ate organic food...  "
      ]
     },
     "execution_count": 33,
     "metadata": {},
     "output_type": "execute_result"
    }
   ],
   "source": [
    "df.head()"
   ]
  },
  {
   "cell_type": "code",
   "execution_count": 34,
   "id": "bca32a97-b6cc-4aac-ac80-442ef1d88aa2",
   "metadata": {},
   "outputs": [],
   "source": [
    "#df = df.sample(10000)\n",
    "#df"
   ]
  },
  {
   "cell_type": "code",
   "execution_count": 35,
   "id": "99f25893-7665-4719-ab51-20d276d5b771",
   "metadata": {},
   "outputs": [
    {
     "data": {
      "text/plain": [
       "\"All deserters will be shot  \\r\\nat 5 o'clock tomorrow morning  \\r\\nso get yourselves together  \\r\\nand quit messing around  \\r\\nNo more nonsense!  \\r\\nThe assassination occurred at 3.30  \\r\\nNo one was there to witness it  \\r\\nEven the breviaries had left their tapestries on the window  \\r\\nAnd we were all silenced  \\r\\nby the sad mildew cloud  \\r\\nthat followed around  \\r\\nI wish I was back in the land of the...  \\r\\nof the...  \\r\\nAaahm uhm...  \\r\\nYou can't pin that one on me  \\r\\nI didn't do a goddamn thing  \\r\\nI was just standing there  \\r\\nThen a bunch of guys came up  \\r\\nand started laying all this shit on me  \\r\\nNow what am I supposed to do?  \\r\\nI'm an American! You can't touch me!  \\r\\nDid you know all nuns are 42?  \\r\\nAnd their eyes are blue?  \\r\\nDid you know all table clothes  \\r\\nare white in France?  \\r\\nDid you know women wear underpants?  \\r\\nWell, they do!  \\r\\nHow does a musician imitate  \\r\\nthe sound of underpants sliding  \\r\\nover a woman's thighs,  \\r\\ndown over her ankles,  \\r\\nand over her little toes?  \\r\\nAnd the rings on her toes?  \\r\\nAnd her unquipped toe nails?  \\r\\nLightning struck the magic purse  \\r\\nI didn't do a damn thing, man!  \\r\\nI was just standing there  \\r\\nin front of the 'Delicatessen'  \\r\\nand all these rabbies ran up  \\r\\nand a bunch of Indians and freaks  \\r\\nand monsters and f.... just started ...  \\r\\nmhmh... talking in all these weird languages...  \\r\\nWhat aah ... what ... could I say?  \\r\\nHey, I'm tired of being a freaky musician  \\r\\nI wanna be Napoleon!  \\r\\nLet's have some more wars around here!  \\r\\nWhat a stinking, shitty little war we have running over there  \\r\\nLet's get a big one!  \\r\\nA real big one!  \\r\\nWith a lotta killings and bombs and blood!  \\r\\nSchooldays...  \\r\\nSchooldays...  \\r\\nGood old-fashioned rule days...  \\r\\nSchooldays...  \\r\\nSchooldays...  \\r\\nGood old-fashioned rule days.\\r\\n\\r\\n\""
      ]
     },
     "execution_count": 35,
     "metadata": {},
     "output_type": "execute_result"
    }
   ],
   "source": [
    "df['text'][0]"
   ]
  },
  {
   "cell_type": "markdown",
   "id": "6498dc80-c648-4379-a112-58d3850f8e44",
   "metadata": {},
   "source": [
    "# Text Preprocessing\n",
    "+  Clean and preprocess the text by removing special characters, punctuation, and converting all letters to lowercase.\n",
    "+  Tokenize the descriptions into individual words or phrases.\n",
    "+  Remove stopwords (common words like \"and,\" \"the,\" \"is,\" etc.) that don't provide much context."
   ]
  },
  {
   "cell_type": "code",
   "execution_count": 36,
   "id": "f2cf9520-ccaf-476f-bbb8-fbbb1c63bf28",
   "metadata": {},
   "outputs": [],
   "source": [
    "df['text'] = df['text'].str.lower().replace(r'^\\w\\s',' ',regex=True).replace(r'\\n',' ',regex=True)"
   ]
  },
  {
   "cell_type": "code",
   "execution_count": 37,
   "id": "c643feb4-1add-4ede-ba08-dadb971ff7fd",
   "metadata": {},
   "outputs": [
    {
     "data": {
      "text/plain": [
       "\"all deserters will be shot  \\r at 5 o'clock tomorrow morning  \\r so get yourselves together  \\r and quit messing around  \\r no more nonsense!  \\r the assassination occurred at 3.30  \\r no one was there to witness it  \\r even the breviaries had left their tapestries on the window  \\r and we were all silenced  \\r by the sad mildew cloud  \\r that followed around  \\r i wish i was back in the land of the...  \\r of the...  \\r aaahm uhm...  \\r you can't pin that one on me  \\r i didn't do a goddamn thing  \\r i was just standing there  \\r then a bunch of guys came up  \\r and started laying all this shit on me  \\r now what am i supposed to do?  \\r i'm an american! you can't touch me!  \\r did you know all nuns are 42?  \\r and their eyes are blue?  \\r did you know all table clothes  \\r are white in france?  \\r did you know women wear underpants?  \\r well, they do!  \\r how does a musician imitate  \\r the sound of underpants sliding  \\r over a woman's thighs,  \\r down over her ankles,  \\r and over her little toes?  \\r and the rings on her toes?  \\r and her unquipped toe nails?  \\r lightning struck the magic purse  \\r i didn't do a damn thing, man!  \\r i was just standing there  \\r in front of the 'delicatessen'  \\r and all these rabbies ran up  \\r and a bunch of indians and freaks  \\r and monsters and f.... just started ...  \\r mhmh... talking in all these weird languages...  \\r what aah ... what ... could i say?  \\r hey, i'm tired of being a freaky musician  \\r i wanna be napoleon!  \\r let's have some more wars around here!  \\r what a stinking, shitty little war we have running over there  \\r let's get a big one!  \\r a real big one!  \\r with a lotta killings and bombs and blood!  \\r schooldays...  \\r schooldays...  \\r good old-fashioned rule days...  \\r schooldays...  \\r schooldays...  \\r good old-fashioned rule days.\\r \\r \""
      ]
     },
     "execution_count": 37,
     "metadata": {},
     "output_type": "execute_result"
    }
   ],
   "source": [
    "df['text'][0]"
   ]
  },
  {
   "cell_type": "code",
   "execution_count": 38,
   "id": "9dc124d1-a155-4a62-8034-c4db7a53f9ce",
   "metadata": {},
   "outputs": [
    {
     "data": {
      "text/plain": [
       "0    all deserters will be shot  \\r at 5 o'clock to...\n",
       "1    singled out the kids who are mean to me  \\r ge...\n",
       "2    you must always remember  \\r life can be a cha...\n",
       "3    hold me in your arms,  \\r love me like your be...\n",
       "4    jesus was a capricorn  \\r he ate organic food ...\n",
       "5    black dog barking in the cold grey light  \\r h...\n",
       "6    wake up, (wake up)  \\r grab a brush and put a ...\n",
       "7    along came the f-15 the swiftest on the line  ...\n",
       "8     am what i am  \\r i don't want praise i don't ...\n",
       "9    the brick jail doors that closed behind are cr...\n",
       "Name: text, dtype: object"
      ]
     },
     "execution_count": 38,
     "metadata": {},
     "output_type": "execute_result"
    }
   ],
   "source": [
    "df['text'].head(10)"
   ]
  },
  {
   "cell_type": "markdown",
   "id": "1e38ad4b-35b3-40b2-94b4-e7baef5eb58c",
   "metadata": {},
   "source": [
    "# Tokenization (NLTK)\n",
    "+ Convert the tokenized descriptions into numerical representations that can be used by machine learning models."
   ]
  },
  {
   "cell_type": "code",
   "execution_count": 39,
   "id": "c9a2e4c0-097c-4c45-8f5b-e88ba6dae56d",
   "metadata": {},
   "outputs": [],
   "source": [
    "import nltk\n",
    "#nltk.download('punkt_tab')"
   ]
  },
  {
   "cell_type": "code",
   "execution_count": 40,
   "id": "d97d20c0-6e7d-4c61-98af-4fdd48027c3a",
   "metadata": {},
   "outputs": [],
   "source": [
    "from nltk.stem.porter import PorterStemmer"
   ]
  },
  {
   "cell_type": "code",
   "execution_count": 41,
   "id": "def826b1-fdc2-45ce-8d34-86a1676596a4",
   "metadata": {},
   "outputs": [],
   "source": [
    "stemmer = PorterStemmer()"
   ]
  },
  {
   "cell_type": "code",
   "execution_count": 42,
   "id": "7f367256-bf6d-468a-a495-53b3d7147ed8",
   "metadata": {},
   "outputs": [],
   "source": [
    "def token(txt):\n",
    "    token = nltk.word_tokenize(txt)\n",
    "    a =[stemmer.stem(w) for w in token]\n",
    "    return \" \".join(a)"
   ]
  },
  {
   "cell_type": "code",
   "execution_count": 43,
   "id": "3dec2b70-4a97-49ab-b25f-1db1db8dc6af",
   "metadata": {},
   "outputs": [
    {
     "data": {
      "text/plain": [
       "'you are beauti , beauti'"
      ]
     },
     "execution_count": 43,
     "metadata": {},
     "output_type": "execute_result"
    }
   ],
   "source": [
    "token(\"you are beautiful, beauty\")"
   ]
  },
  {
   "cell_type": "code",
   "execution_count": 44,
   "id": "ed16e435-b980-4ecc-abb6-98f11a6bdd2d",
   "metadata": {},
   "outputs": [
    {
     "data": {
      "text/plain": [
       "0       all desert will be shot at 5 o'clock tomorrow ...\n",
       "1       singl out the kid who are mean to me get strai...\n",
       "2       you must alway rememb life can be a challeng l...\n",
       "3       hold me in your arm , love me like your best f...\n",
       "4       jesu wa a capricorn he ate organ food he belie...\n",
       "                              ...                        \n",
       "9995    wish a wish i dream to dream i tri to tri and ...\n",
       "9996    outsid these , four wall lie , anarchi babe un...\n",
       "9997    close your eye and tri to get to sleep now do ...\n",
       "9998    time to make a chang time to rearrang sooner o...\n",
       "9999    ( instrument intro ) i do n't want to settl do...\n",
       "Name: text, Length: 10000, dtype: object"
      ]
     },
     "execution_count": 44,
     "metadata": {},
     "output_type": "execute_result"
    }
   ],
   "source": [
    "df['text'].apply(lambda x: token(x))"
   ]
  },
  {
   "cell_type": "markdown",
   "id": "3b14488b-5f18-4340-8bb1-952e975bf8e4",
   "metadata": {},
   "source": [
    "# Vectorization(TF IDF)\n",
    "+  We can use techniques like TF-IDF (Term Frequency-Inverse Document Frequency) or word embeddings (Word2Vec, GloVe) for this purpose.\n",
    "# Content-Based Filtering\n",
    "+ one In our case, content-based filtering might be more suitable since we're focusing on analyzing the music lyrics(text). This approach recommends items similar to those the user has shown interest in.\n",
    "+ two Calculate similarity scores between musics based on their preprocessed music lyrics(texts)\n",
    "+ three Recommend musics that have similar descriptions to the ones the user has liked or interacted with in the past."
   ]
  },
  {
   "cell_type": "code",
   "execution_count": 45,
   "id": "d1287909-72cf-4ece-96ce-cd1055b52bcf",
   "metadata": {},
   "outputs": [],
   "source": [
    "from sklearn.feature_extraction.text import TfidfVectorizer\n",
    "from sklearn.metrics.pairwise import cosine_similarity"
   ]
  },
  {
   "cell_type": "code",
   "execution_count": 46,
   "id": "a7caa660-4610-4bd6-aba5-011057dffa69",
   "metadata": {},
   "outputs": [],
   "source": [
    "tfid = TfidfVectorizer(analyzer='word',stop_words='english')"
   ]
  },
  {
   "cell_type": "code",
   "execution_count": 47,
   "id": "7d1105de-975e-49e0-9f0a-61997066c05b",
   "metadata": {},
   "outputs": [
    {
     "data": {
      "text/plain": [
       "array([[0., 0., 0., ..., 0., 0., 0.],\n",
       "       [0., 0., 0., ..., 0., 0., 0.],\n",
       "       [0., 0., 0., ..., 0., 0., 0.],\n",
       "       ...,\n",
       "       [0., 0., 0., ..., 0., 0., 0.],\n",
       "       [0., 0., 0., ..., 0., 0., 0.],\n",
       "       [0., 0., 0., ..., 0., 0., 0.]])"
      ]
     },
     "execution_count": 47,
     "metadata": {},
     "output_type": "execute_result"
    }
   ],
   "source": [
    "matrix = tfid.fit_transform(df['text']).toarray()\n",
    "matrix"
   ]
  },
  {
   "cell_type": "code",
   "execution_count": 48,
   "id": "2fccfc32-55f8-4a36-946a-f76ed115e7c9",
   "metadata": {},
   "outputs": [],
   "source": [
    "simillar = cosine_similarity(matrix)"
   ]
  },
  {
   "cell_type": "code",
   "execution_count": 49,
   "id": "ebb7265b-0946-4b63-b5ae-b83c140677e3",
   "metadata": {},
   "outputs": [
    {
     "data": {
      "text/plain": [
       "array([1.        , 0.01650101, 0.00508185, ..., 0.01418955, 0.        ,\n",
       "       0.00100173])"
      ]
     },
     "execution_count": 49,
     "metadata": {},
     "output_type": "execute_result"
    }
   ],
   "source": [
    "simillar[0]"
   ]
  },
  {
   "cell_type": "markdown",
   "id": "6d32c7cd-596c-4b46-b99b-ff38e6f81669",
   "metadata": {},
   "source": [
    "# Create Recommender Function\n",
    "+ This function is created in a way so that users can search for a song by the song's name. The function will return a list of similar songs for any chosen song."
   ]
  },
  {
   "cell_type": "code",
   "execution_count": 51,
   "id": "e89e91e5-9d3a-4016-bb99-95d953d8a808",
   "metadata": {},
   "outputs": [
    {
     "data": {
      "text/plain": [
       "4788"
      ]
     },
     "execution_count": 51,
     "metadata": {},
     "output_type": "execute_result"
    }
   ],
   "source": [
    "df[df['song']==\"Doors\"].index[0]"
   ]
  },
  {
   "cell_type": "code",
   "execution_count": 52,
   "id": "c7a25c0a-2204-4ff5-8780-7db47a35db0c",
   "metadata": {},
   "outputs": [],
   "source": [
    "def recommender(song_name):\n",
    "    idx = df[df['song']==song_name].index[0]\n",
    "    distance = sorted(list(enumerate(simillar[idx])), reverse=True, key=lambda x:x[1])\n",
    "    song=[]\n",
    "    for song_id in distance[1:8]:\n",
    "        song.append(df.iloc[song_id[0]].song)\n",
    "    return song"
   ]
  },
  {
   "cell_type": "code",
   "execution_count": 54,
   "id": "de8cd949-8198-4550-a0a6-ce27e6072840",
   "metadata": {},
   "outputs": [
    {
     "data": {
      "text/plain": [
       "['For The First Time',\n",
       " 'Everywhere I Go',\n",
       " 'If I Was The One',\n",
       " 'Behind Closed Doors',\n",
       " \"I Wonder Who's Kissing Her Now\",\n",
       " 'Behind Closed Doors',\n",
       " 'Well I Wonder']"
      ]
     },
     "execution_count": 54,
     "metadata": {},
     "output_type": "execute_result"
    }
   ],
   "source": [
    "recommender(\"Doors\")"
   ]
  },
  {
   "cell_type": "markdown",
   "id": "8534a69f-d61b-4076-ae14-e728c099f5ab",
   "metadata": {},
   "source": [
    "# Store it in a pickle file"
   ]
  },
  {
   "cell_type": "code",
   "execution_count": null,
   "id": "7367b005-82a5-4ef1-82cb-b2e560ba9361",
   "metadata": {},
   "outputs": [],
   "source": [
    "import pickle"
   ]
  },
  {
   "cell_type": "code",
   "execution_count": null,
   "id": "6c1de50f-2a88-457d-91f8-cc0bca68db89",
   "metadata": {},
   "outputs": [],
   "source": [
    "pickle.dump(simillar, open(\"similarity.pkl\",\"wb\")) #store my simillar\n",
    "pickle.dump(df, open(\"df.pkl\",\"wb\")) #store my dataframe"
   ]
  },
  {
   "cell_type": "code",
   "execution_count": null,
   "id": "de501850-e003-47e6-9f74-5e6392871d3d",
   "metadata": {},
   "outputs": [],
   "source": []
  }
 ],
 "metadata": {
  "kernelspec": {
   "display_name": "Python [conda env:base] *",
   "language": "python",
   "name": "conda-base-py"
  },
  "language_info": {
   "codemirror_mode": {
    "name": "ipython",
    "version": 3
   },
   "file_extension": ".py",
   "mimetype": "text/x-python",
   "name": "python",
   "nbconvert_exporter": "python",
   "pygments_lexer": "ipython3",
   "version": "3.11.11"
  }
 },
 "nbformat": 4,
 "nbformat_minor": 5
}
